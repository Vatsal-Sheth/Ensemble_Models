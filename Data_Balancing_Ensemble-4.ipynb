{
  "cells": [
    {
      "cell_type": "markdown",
      "metadata": {
        "id": "octBZKDDcIpJ"
      },
      "source": [
        "# Tree-based (Ensemble) Models and Handling Imbalanced Data\n",
        "\n",
        "For this problem, we will use the wine quality dataset on which the task is a binary classification of whether a given wine is of low or high quality based on different physicochemical features.\n",
        "\n",
        "The dataset consists of a set of physicochemical features as inputs and the target is wine quality stored in the target column, where a value of 1 corresponds to an instance of high quality wine and -1 corresponds to an instance of low quality ones."
      ]
    },
    {
      "cell_type": "markdown",
      "metadata": {
        "id": "pelBNNpIcIpN"
      },
      "source": [
        "### Loading the data\n",
        "Load the data from library."
      ]
    },
    {
      "cell_type": "code",
      "execution_count": null,
      "metadata": {
        "colab": {
          "base_uri": "https://localhost:8080/"
        },
        "id": "rmLHYFIIcIpO",
        "outputId": "72da8e92-a44f-4b3c-b319-eef181bdda7d"
      },
      "outputs": [
        {
          "output_type": "stream",
          "name": "stdout",
          "text": [
            "Found existing installation: scikit-learn 1.2.2\n",
            "Uninstalling scikit-learn-1.2.2:\n",
            "  Successfully uninstalled scikit-learn-1.2.2\n",
            "\u001b[33mWARNING: Skipping imblearn as it is not installed.\u001b[0m\u001b[33m\n",
            "\u001b[0mCollecting scikit-learn==1.2.2\n",
            "  Downloading scikit_learn-1.2.2-cp310-cp310-manylinux_2_17_x86_64.manylinux2014_x86_64.whl (9.6 MB)\n",
            "\u001b[2K     \u001b[90m━━━━━━━━━━━━━━━━━━━━━━━━━━━━━━━━━━━━━━━━\u001b[0m \u001b[32m9.6/9.6 MB\u001b[0m \u001b[31m17.4 MB/s\u001b[0m eta \u001b[36m0:00:00\u001b[0m\n",
            "\u001b[?25hRequirement already satisfied: numpy>=1.17.3 in /usr/local/lib/python3.10/dist-packages (from scikit-learn==1.2.2) (1.25.2)\n",
            "Requirement already satisfied: scipy>=1.3.2 in /usr/local/lib/python3.10/dist-packages (from scikit-learn==1.2.2) (1.11.4)\n",
            "Requirement already satisfied: joblib>=1.1.1 in /usr/local/lib/python3.10/dist-packages (from scikit-learn==1.2.2) (1.3.2)\n",
            "Requirement already satisfied: threadpoolctl>=2.0.0 in /usr/local/lib/python3.10/dist-packages (from scikit-learn==1.2.2) (3.4.0)\n",
            "Installing collected packages: scikit-learn\n",
            "Successfully installed scikit-learn-1.2.2\n",
            "Collecting imblearn\n",
            "  Downloading imblearn-0.0-py2.py3-none-any.whl (1.9 kB)\n",
            "Requirement already satisfied: imbalanced-learn in /usr/local/lib/python3.10/dist-packages (from imblearn) (0.10.1)\n",
            "Requirement already satisfied: numpy>=1.17.3 in /usr/local/lib/python3.10/dist-packages (from imbalanced-learn->imblearn) (1.25.2)\n",
            "Requirement already satisfied: scipy>=1.3.2 in /usr/local/lib/python3.10/dist-packages (from imbalanced-learn->imblearn) (1.11.4)\n",
            "Requirement already satisfied: scikit-learn>=1.0.2 in /usr/local/lib/python3.10/dist-packages (from imbalanced-learn->imblearn) (1.2.2)\n",
            "Requirement already satisfied: joblib>=1.1.1 in /usr/local/lib/python3.10/dist-packages (from imbalanced-learn->imblearn) (1.3.2)\n",
            "Requirement already satisfied: threadpoolctl>=2.0.0 in /usr/local/lib/python3.10/dist-packages (from imbalanced-learn->imblearn) (3.4.0)\n",
            "Installing collected packages: imblearn\n",
            "Successfully installed imblearn-0.0\n"
          ]
        }
      ],
      "source": [
        "\n",
        "!pip uninstall scikit-learn --yes\n",
        "!pip uninstall imblearn --yes\n",
        "!pip install scikit-learn==1.2.2\n",
        "!pip install imblearn"
      ]
    },
    {
      "cell_type": "code",
      "execution_count": null,
      "metadata": {
        "id": "4M2PVqV2cIpT"
      },
      "outputs": [],
      "source": [
        "# Use wine dataset from imlearn\n",
        "from imblearn.datasets import fetch_datasets\n",
        "import numpy as np\n",
        "import pandas as pd\n",
        "\n",
        "datasets = fetch_datasets()\n",
        "\n",
        "# Wine quality dataset contains 12 features, descriptions found here:\n",
        "# https://archive.ics.uci.edu/ml/datasets/wine+quality\n",
        "data = datasets['wine_quality']\n",
        "\n",
        "X, y = data.data, data.target\n",
        "\n",
        "# Use X_train, X_test, y_train, y_test for all of the following questions\n",
        "from sklearn.model_selection import train_test_split\n",
        "\n",
        "X_train, X_test, y_train, y_test = train_test_split(X, y, random_state=0)"
      ]
    },
    {
      "cell_type": "markdown",
      "metadata": {
        "id": "vWMFDrj4cIpV"
      },
      "source": [
        " A class distribution that is heavily skewed towards one class could lead to a model that is biased towards predicting the majority class, resulting in poor performance on the minority class. This imbalance can affect the model's ability to generalize well to unseen data, especially for the under-represented class.</p>"
      ]
    },
    {
      "cell_type": "code",
      "execution_count": null,
      "metadata": {
        "colab": {
          "base_uri": "https://localhost:8080/",
          "height": 513
        },
        "id": "NQ_jduqCcIpW",
        "outputId": "88b85f86-50a2-48f3-cb96-45f893662ea5"
      },
      "outputs": [
        {
          "output_type": "stream",
          "name": "stdout",
          "text": [
            "Percentage of high quality observations Ellipsis\n"
          ]
        },
        {
          "output_type": "stream",
          "name": "stderr",
          "text": [
            "<ipython-input-5-62ae0b921583>:13: FutureWarning: \n",
            "\n",
            "Passing `palette` without assigning `hue` is deprecated and will be removed in v0.14.0. Assign the `x` variable to `hue` and set `legend=False` for the same effect.\n",
            "\n",
            "  sns.countplot(x=y_train, palette=colors)\n"
          ]
        },
        {
          "output_type": "display_data",
          "data": {
            "text/plain": [
              "<Figure size 800x400 with 1 Axes>"
            ],
            "image/png": "[encoded data removed]"
          },
          "metadata": {}
        }
      ],
      "source": [
        "# import libraries for plotting class distribution\n",
        "import matplotlib.pyplot as plt\n",
        "import seaborn as sns\n",
        "\n",
        "high_quality_ratio = ...\n",
        "print('Percentage of high quality observations', high_quality_ratio)\n",
        "\n",
        "# color coding for 2 classes\n",
        "colors = [\"#0101DF\", \"#DF0101\"]\n",
        "\n",
        "# Draw the class distribution of the dataset\n",
        "plt.figure(figsize=(8, 4))\n",
        "sns.countplot(x=y_train, palette=colors)\n",
        "plt.title('Class Distribution in Training Set')\n",
        "plt.show()"
      ]
    },
    {
      "cell_type": "markdown",
      "metadata": {
        "id": "uUanK9x8cIpX"
      },
      "source": [
        "### Training and testing a Random Forest classfier directly on the data\n",
        "\n",
        "Let's first train a random forest classifier with default parameters using X_train and y_train and test the performance on the test data."
      ]
    },
    {
      "cell_type": "code",
      "execution_count": null,
      "metadata": {
        "colab": {
          "base_uri": "https://localhost:8080/"
        },
        "id": "CPS8MpcpcIpX",
        "outputId": "326a1c84-7113-4744-d468-538db75374cb"
      },
      "outputs": [
        {
          "output_type": "stream",
          "name": "stdout",
          "text": [
            "Random forest classifier accuracy: 0.9526530612244898\n",
            "Random forest classifier recall: 0.13636363636363635\n"
          ]
        }
      ],
      "source": [
        "# Training and testing a Random Forest classifier directly on the data (3pts)\n",
        "from sklearn.ensemble import RandomForestClassifier  # class for random forest classifier\n",
        "from sklearn.metrics import accuracy_score\n",
        "from sklearn.metrics import recall_score\n",
        "\n",
        "## Instantiate and fit a random forest classifier to the training data\n",
        "rf_clf = RandomForestClassifier()\n",
        "rf_clf.fit(X_train, y_train)\n",
        "\n",
        "## Measure and print out the accuracy and recall\n",
        "y_pred = rf_clf.predict(X_test)\n",
        "test_acc = accuracy_score(y_test, y_pred)\n",
        "\n",
        "print('Random forest classifier accuracy:', test_acc)\n",
        "\n",
        "test_recall = recall_score(y_test, y_pred, pos_label = 1)\n",
        "\n",
        "print('Random forest classifier recall:', test_recall)"
      ]
    },
    {
      "cell_type": "markdown",
      "metadata": {
        "id": "AEjmlfFKcIpY"
      },
      "source": [
        " While the accuracy is really good, it is not that great on recall indicating an overfit and not really generalised model. This might be due to the bias skew in the data."
      ]
    },
    {
      "cell_type": "markdown",
      "metadata": {
        "id": "YOIz2mTjcIpZ"
      },
      "source": [
        "### Data balancing via Smote"
      ]
    },
    {
      "cell_type": "code",
      "execution_count": null,
      "metadata": {
        "colab": {
          "base_uri": "https://localhost:8080/"
        },
        "id": "tz4uEvECcIpZ",
        "outputId": "283a2032-4384-4d6e-8956-bf4927535edb"
      },
      "outputs": [
        {
          "output_type": "stream",
          "name": "stdout",
          "text": [
            "Percentage of high quality counts in the balanced data:0.5%\n"
          ]
        }
      ],
      "source": [
        "from imblearn.over_sampling import SMOTE #Over sampling\n",
        "import numpy as np\n",
        "\n",
        "## Instantiate smote and balance training data only\n",
        "sm = SMOTE(random_state=0)\n",
        "X_train_bal, y_train_bal = sm.fit_resample(X_train, y_train)\n",
        "high_quality_ratio_bal = np.mean(y_train_bal == 1)\n",
        "\n",
        "## Compute and print percentage of high quality wine after balancing\n",
        "print('Percentage of high quality counts in the balanced data:{}%'.format(high_quality_ratio_bal))"
      ]
    },
    {
      "cell_type": "markdown",
      "metadata": {
        "id": "bgw5zWCgcIpa"
      },
      "source": [
        "**Question:** Plot the distribution of balanced training data."
      ]
    },
    {
      "cell_type": "code",
      "execution_count": null,
      "metadata": {
        "colab": {
          "base_uri": "https://localhost:8080/",
          "height": 496
        },
        "id": "q1tbmwOYcIpb",
        "outputId": "92fee41d-2587-4bb6-e0ff-2f5850351b66"
      },
      "outputs": [
        {
          "output_type": "stream",
          "name": "stderr",
          "text": [
            "<ipython-input-10-21e3f4df8287>:4: FutureWarning: \n",
            "\n",
            "Passing `palette` without assigning `hue` is deprecated and will be removed in v0.14.0. Assign the `x` variable to `hue` and set `legend=False` for the same effect.\n",
            "\n",
            "  sns.countplot(x=y_train_bal, palette=colors)\n"
          ]
        },
        {
          "output_type": "display_data",
          "data": {
            "text/plain": [
              "<Figure size 800x400 with 1 Axes>"
            ],
            "image/png": "[encoded data removed]"
          },
          "metadata": {}
        }
      ],
      "source": [
        "colors = [\"#0101DF\", \"#DF0101\"]\n",
        "## plot the class distribution of training data after balanced\n",
        "plt.figure(figsize=(8, 4))\n",
        "sns.countplot(x=y_train_bal, palette=colors)\n",
        "plt.title('Balanced Class Distribution in Training Set')\n",
        "plt.show()"
      ]
    },
    {
      "cell_type": "markdown",
      "metadata": {
        "id": "Xk2SmD0VcIpc"
      },
      "source": [
        "Let's retrain and test our random forest model on the balanced training data"
      ]
    },
    {
      "cell_type": "code",
      "execution_count": null,
      "metadata": {
        "colab": {
          "base_uri": "https://localhost:8080/"
        },
        "id": "d_tqMNYycIpd",
        "outputId": "e391c4f4-6835-4254-d26c-483c46c5dc24"
      },
      "outputs": [
        {
          "output_type": "stream",
          "name": "stdout",
          "text": [
            "Random forest classifier accuracy: 0.9444897959183673\n",
            "Random forest classifier recall: 0.3333333333333333\n"
          ]
        }
      ],
      "source": [
        "## Instantiate random forest and train on balanced training data\n",
        "rf_clf_smote = RandomForestClassifier()\n",
        "rf_clf_smote.fit(X_train_bal, y_train_bal)\n",
        "\n",
        "y_pred = rf_clf_smote.predict(X_test)\n",
        "test_acc = accuracy_score(y_test, y_pred)\n",
        "\n",
        "print('Random forest classifier accuracy:', test_acc)\n",
        "\n",
        "test_recall = recall_score(y_test, y_pred)\n",
        "\n",
        "print('Random forest classifier recall:', test_recall)\n"
      ]
    },
    {
      "cell_type": "markdown",
      "metadata": {
        "id": "NmctzKyBcIpd"
      },
      "source": [
        "This suggests that while the model is generally accurate, its ability to correctly identify all positive samples (high-quality wines, in this case) may still be limited, as indicated by the recall score."
      ]
    },
    {
      "cell_type": "markdown",
      "metadata": {
        "id": "TX1TGytLcIpg"
      },
      "source": [
        "### Control complexity of the model\n",
        "\n",
        "#### Control the depth of decision trees in our ensemble\n",
        "By default, the decision trees in random forest are expanded until all leaves are pure or until all leaves contain less than a certain number set by min_samples_split parameter. Let's try a fixed maximum depth that the tree can expand."
      ]
    },
    {
      "cell_type": "code",
      "execution_count": null,
      "metadata": {
        "colab": {
          "base_uri": "https://localhost:8080/"
        },
        "id": "_WRaqOSjcIph",
        "outputId": "81bd4fb8-e203-49e9-d898-1e00bc0f1758"
      },
      "outputs": [
        {
          "output_type": "stream",
          "name": "stdout",
          "text": [
            "Random forest classifier accuracy: 0.8326530612244898\n",
            "Random forest classifier recall: 0.5303030303030303\n"
          ]
        }
      ],
      "source": [
        "## Instantiate model with max depth trees being 3\n",
        "rf_clf_depth = RandomForestClassifier(max_depth=3)\n",
        "rf_clf_depth.fit(X_train_bal, y_train_bal)\n",
        "y_pred_depth = rf_clf_depth.predict(X_test)\n",
        "\n",
        "test_acc_depth = accuracy_score(y_test, y_pred_depth)\n",
        "test_recall_depth = recall_score(y_test, y_pred_depth, pos_label=1)\n",
        "\n",
        "print('Random forest classifier accuracy:', test_acc_depth)\n",
        "\n",
        "test_recall = recall_score(y_test, y_pred)\n",
        "\n",
        "print('Random forest classifier recall:', test_recall_depth)"
      ]
    },
    {
      "cell_type": "markdown",
      "metadata": {
        "id": "pXjwReYJcIpi"
      },
      "source": [
        "**Question:** Compute the recall and accuracy scores of the new random forest classifier. How do the accuracy and recall change compared to those in the default parameter case?\n",
        "<p><b>Answer:</b> While the accuracy did take a hit, the recall increased tremendously, making the model more generalised."
      ]
    },
    {
      "cell_type": "markdown",
      "metadata": {
        "id": "LhtzlgStcIpi"
      },
      "source": [
        "#### Choose the number of trees in the forest\n",
        "By default, we use 10 random trees. Let's increase this number to 100"
      ]
    },
    {
      "cell_type": "code",
      "execution_count": null,
      "metadata": {
        "colab": {
          "base_uri": "https://localhost:8080/"
        },
        "id": "p10ehycZcIpj",
        "outputId": "1941b96a-220e-4d59-98a9-814d961b28fc"
      },
      "outputs": [
        {
          "output_type": "stream",
          "name": "stdout",
          "text": [
            "Random forest classifier accuracy: 0.8318367346938775\n",
            "Random forest classifier recall: 0.5303030303030303\n"
          ]
        }
      ],
      "source": [
        "# Control the number of trees in the forest\n",
        "rf_clf_trees = RandomForestClassifier(max_depth=3, n_estimators=100)\n",
        "rf_clf_trees.fit(X_train_bal, y_train_bal)\n",
        "y_pred_trees = rf_clf_trees.predict(X_test)\n",
        "\n",
        "test_acc_trees = accuracy_score(y_test, y_pred_trees)\n",
        "print('Random forest classifier accuracy:', test_acc_trees)\n",
        "\n",
        "test_recall_trees = recall_score(y_test, y_pred_trees, pos_label=1)\n",
        "print('Random forest classifier recall:', test_recall_trees)\n"
      ]
    },
    {
      "cell_type": "markdown",
      "metadata": {
        "id": "bfMVZkbjcIpj"
      },
      "source": [
        "**Question:** Compute the recall and accuracy scores of the random forest classifier. How do the accuracy and recall change compared to those with 10 trees? What do the results imply about increasing the number of trees?\n",
        "<p><b>Answer:</b>Changing classifier parameters without further balancing adjustments maintained the accuracy (about 83.18%) and recall (53.03%) scores at similar levels to the previous balanced case. This suggests that the parameter adjustments made did not significantly impact the model's ability to generalize better or differently to the balanced dataset."
      ]
    },
    {
      "cell_type": "markdown",
      "metadata": {
        "id": "bF2cyjmecIpk"
      },
      "source": [
        "#### Tree pruning by min_impurity_decrease\n",
        "By default, the tree keeps expanding until the impurity is 0. However, we can specify a minimum impurity decrease amount under which nodes in the tree stop branching. RandomForestClassifier in sklearn use min_impurity_decrease for setting this threshold. Let's try that on our problem."
      ]
    },
    {
      "cell_type": "code",
      "execution_count": null,
      "metadata": {
        "colab": {
          "base_uri": "https://localhost:8080/"
        },
        "id": "IMIjjFXpcIpk",
        "outputId": "3ab8c1b1-c21c-4033-cc37-3d484a4b7ebe"
      },
      "outputs": [
        {
          "output_type": "stream",
          "name": "stdout",
          "text": [
            "Random forest classifier accuracy: 0.8285714285714286\n",
            "Random forest classifier recall: 0.5757575757575758\n"
          ]
        }
      ],
      "source": [
        "## Instantiate model with min impurity decrease of 0.001\n",
        "rf_clf_prune = RandomForestClassifier(max_depth=3, n_estimators=100, min_impurity_decrease=0.001)\n",
        "rf_clf_prune.fit(X_train_bal, y_train_bal)\n",
        "y_pred_prune = rf_clf_prune.predict(X_test)\n",
        "\n",
        "test_acc_prune = accuracy_score(y_test, y_pred_prune)\n",
        "\n",
        "print('Random forest classifier accuracy:', test_acc_prune)\n",
        "\n",
        "test_recall_prune = recall_score(y_test, y_pred_prune, pos_label=1)\n",
        "\n",
        "print('Random forest classifier recall:', test_recall_prune)"
      ]
    },
    {
      "cell_type": "markdown",
      "metadata": {
        "id": "mpJDSnf4cIpm"
      },
      "source": [
        "Adjusting the number of trees in the random forest to a different configuration resulted in a slight decrease in accuracy (to about 82.86%) but an improvement in recall (to about 57.58%). This implies that increasing the number of trees may help the model better capture the minority class, improving its sensitivity to positive samples at a slight cost to overall accuracy."
      ]
    },
    {
      "cell_type": "code",
      "source": [],
      "metadata": {
        "id": "_fb3CkttiiaY"
      },
      "execution_count": null,
      "outputs": []
    }
  ],
  "metadata": {
    "coursera": {
      "course_slug": "python-machine-learning",
      "graded_item_id": "5yX9Z",
      "launcher_item_id": "eqnV3",
      "part_id": "Msnj0"
    },
    "kernelspec": {
      "display_name": "Python 3 (ipykernel)",
      "language": "python",
      "name": "python3"
    },
    "language_info": {
      "codemirror_mode": {
        "name": "ipython",
        "version": 3
      },
      "file_extension": ".py",
      "mimetype": "text/x-python",
      "name": "python",
      "nbconvert_exporter": "python",
      "pygments_lexer": "ipython3",
      "version": "3.11.5"
    },
    "colab": {
      "provenance": []
    }
  },
  "nbformat": 4,
  "nbformat_minor": 0
}